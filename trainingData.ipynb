{
 "cells": [
  {
   "cell_type": "code",
   "execution_count": 5,
   "id": "e846aa61",
   "metadata": {},
   "outputs": [
    {
     "name": "stdout",
     "output_type": "stream",
     "text": [
      "Hi! I'm a chatbot. Type 'Quit' or 'Bye' to exit.\n",
      "You: bye\n",
      "Chatbot: Sad to see you go ..,Talk you later ,Goodbye\n"
     ]
    }
   ],
   "source": [
    "import json\n",
    "import random\n",
    "import nltk\n",
    "from nltk.tokenize import word_tokenize\n",
    "from nltk.corpus import stopwords\n",
    "from nltk.stem import WordNetLemmatizer\n",
    "\n",
    "# Load intents from the JSON file\n",
    "def load_intents(file_path):\n",
    "    with open(file_path, 'r') as file:\n",
    "        return json.load(file)\n",
    "\n",
    "# Process user input\n",
    "def preprocess_input(user_input):\n",
    "    tokens = word_tokenize(user_input.lower())\n",
    "    tokens = [WordNetLemmatizer().lemmatize(token) for token in tokens if token not in stopwords.words('english')]\n",
    "    return tokens\n",
    "\n",
    "# Match user input with intents\n",
    "def match_intent(user_input, intents):\n",
    "    tokens = preprocess_input(user_input)\n",
    "    for intent in intents['intents']:\n",
    "        for pattern in intent['patterns']:\n",
    "            pattern_tokens = preprocess_input(pattern)\n",
    "            if set(pattern_tokens).intersection(tokens):\n",
    "                return random.choice(intent['responses'])\n",
    "    return random.choice([intent['responses'] for intent in intents['intents'] if intent['tag'] == 'invalid'][0])\n",
    "\n",
    "# Chat function\n",
    "def chat():\n",
    "    intents = load_intents('intents.json')\n",
    "    print(\"Hi! I'm a chatbot. Type 'Quit' or 'Bye' to exit.\")\n",
    "    while True:\n",
    "        user_input = input(\"You: \")\n",
    "        if user_input.lower() in ['quit', 'bye']:\n",
    "            print(\"Chatbot: Sad to see you go ..,Talk you later ,Goodbye\")\n",
    "            break\n",
    "        response = match_intent(user_input, intents)\n",
    "        print(\"Chatbot:\", response)\n",
    "\n",
    "# Run the chatbot\n",
    "if __name__ == \"__main__\":\n",
    "    chat()\n"
   ]
  },
  {
   "cell_type": "code",
   "execution_count": null,
   "id": "cf79c070",
   "metadata": {},
   "outputs": [],
   "source": []
  }
 ],
 "metadata": {
  "kernelspec": {
   "display_name": "Python 3 (ipykernel)",
   "language": "python",
   "name": "python3"
  },
  "language_info": {
   "codemirror_mode": {
    "name": "ipython",
    "version": 3
   },
   "file_extension": ".py",
   "mimetype": "text/x-python",
   "name": "python",
   "nbconvert_exporter": "python",
   "pygments_lexer": "ipython3",
   "version": "3.11.4"
  }
 },
 "nbformat": 4,
 "nbformat_minor": 5
}
